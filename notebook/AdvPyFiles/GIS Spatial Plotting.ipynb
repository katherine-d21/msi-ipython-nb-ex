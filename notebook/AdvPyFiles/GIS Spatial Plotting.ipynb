{
 "cells": [
  {
   "cell_type": "markdown",
   "id": "right-output",
   "metadata": {},
   "source": [
    "## Examples of plotting maps and GIS data\n",
    "\n",
    "This notebook is a **WIP** and the examples below do not work out-of-the-box on MSI systems at present.\n",
    "\n",
    "`cartopy` is not installed in the MSI-provided Python environments, so you will need to provide your own suitable environment using Conda or pip. "
   ]
  },
  {
   "cell_type": "code",
   "execution_count": null,
   "id": "decent-links",
   "metadata": {},
   "outputs": [],
   "source": []
  },
  {
   "cell_type": "markdown",
   "id": "processed-wound",
   "metadata": {},
   "source": [
    "## Plotting geographic information with Cartopy\n",
    "\n",
    "First we load some additional modules:"
   ]
  },
  {
   "cell_type": "code",
   "execution_count": 1,
   "id": "vertical-stewart",
   "metadata": {},
   "outputs": [
    {
     "ename": "ModuleNotFoundError",
     "evalue": "No module named 'cartopy'",
     "output_type": "error",
     "traceback": [
      "\u001b[0;31m---------------------------------------------------------------------------\u001b[0m",
      "\u001b[0;31mModuleNotFoundError\u001b[0m                       Traceback (most recent call last)",
      "\u001b[0;32m<ipython-input-1-efa6dfc5e8ff>\u001b[0m in \u001b[0;36m<module>\u001b[0;34m()\u001b[0m\n\u001b[1;32m      1\u001b[0m \u001b[0;32mimport\u001b[0m \u001b[0mdatetime\u001b[0m\u001b[0;34m\u001b[0m\u001b[0m\n\u001b[1;32m      2\u001b[0m \u001b[0;32mimport\u001b[0m \u001b[0mmatplotlib\u001b[0m\u001b[0;34m.\u001b[0m\u001b[0mpyplot\u001b[0m \u001b[0;32mas\u001b[0m \u001b[0mplt\u001b[0m\u001b[0;34m\u001b[0m\u001b[0m\n\u001b[0;32m----> 3\u001b[0;31m \u001b[0;32mimport\u001b[0m \u001b[0mcartopy\u001b[0m\u001b[0;34m.\u001b[0m\u001b[0mcrs\u001b[0m \u001b[0;32mas\u001b[0m \u001b[0mccrs\u001b[0m\u001b[0;34m\u001b[0m\u001b[0m\n\u001b[0m",
      "\u001b[0;31mModuleNotFoundError\u001b[0m: No module named 'cartopy'"
     ]
    }
   ],
   "source": [
    "import datetime\n",
    "import matplotlib.pyplot as plt\n",
    "import cartopy.crs as ccrs"
   ]
  },
  {
   "cell_type": "code",
   "execution_count": null,
   "id": "romantic-specialist",
   "metadata": {},
   "outputs": [],
   "source": [
    "ax = plt.axes(projection=ccrs.PlateCarree())\n",
    "ax.stock_img()\n",
    "\n",
    "ny_lon, ny_lat = -75, 43\n",
    "delhi_lon, delhi_lat = 77.23, 28.61\n",
    "\n",
    "plt.plot([ny_lon, delhi_lon], [ny_lat, delhi_lat],\n",
    "         color='blue', linewidth=2, marker='o',\n",
    "         transform=ccrs.Geodetic(),\n",
    "         )\n",
    "\n",
    "plt.plot([ny_lon, delhi_lon], [ny_lat, delhi_lat],\n",
    "         color='gray', linestyle='--',\n",
    "         transform=ccrs.PlateCarree(),\n",
    "         )\n",
    "\n",
    "plt.text(ny_lon - 3, ny_lat - 12, 'New York',\n",
    "         horizontalalignment='right',\n",
    "         transform=ccrs.Geodetic())\n",
    "\n",
    "plt.text(delhi_lon + 3, delhi_lat - 12, 'Delhi',\n",
    "         horizontalalignment='left',\n",
    "         transform=ccrs.Geodetic())\n",
    "\n",
    "plt.show()"
   ]
  },
  {
   "cell_type": "code",
   "execution_count": null,
   "id": "moved-murder",
   "metadata": {},
   "outputs": [],
   "source": [
    "import cartopy.feature"
   ]
  },
  {
   "cell_type": "code",
   "execution_count": null,
   "id": "compliant-endorsement",
   "metadata": {},
   "outputs": [],
   "source": [
    "import os\n",
    "import matplotlib.pyplot as plt\n",
    "from netCDF4 import Dataset as netcdf_dataset\n",
    "import numpy as np\n",
    "\n",
    "from cartopy import config\n",
    "import cartopy.crs as ccrs\n",
    "\n",
    "\n",
    "# get the path of the file. It can be found in the repo data directory.\n",
    "fname = os.path.join(config[\"repo_data_dir\"],\n",
    "                     'netcdf', 'HadISST1_SST_update.nc'\n",
    "                     )\n",
    "\n",
    "dataset = netcdf_dataset(fname)\n",
    "sst = dataset.variables['sst'][0, :, :]\n",
    "lats = dataset.variables['lat'][:]\n",
    "lons = dataset.variables['lon'][:]\n",
    "\n",
    "ax = plt.axes(projection=ccrs.PlateCarree())\n",
    "\n",
    "plt.contourf(lons, lats, sst, 60,\n",
    "             transform=ccrs.PlateCarree())\n",
    "\n",
    "ax.coastlines()\n",
    "\n",
    "plt.show()\n"
   ]
  },
  {
   "cell_type": "markdown",
   "id": "academic-helena",
   "metadata": {},
   "source": [
    "Basemap is deprecated in favor of Cartopy - below included for reference only\n",
    "\n",
    "Plotting geographic information with Basemap\n",
    "\n",
    "This example is based on ``plotsst.py`` from the [Basemap examples page](http://matplotlib.org/basemap/users/examples.html).\n",
    "\n",
    "First we load some additional modules:"
   ]
  },
  {
   "cell_type": "code",
   "execution_count": null,
   "id": "innovative-treasurer",
   "metadata": {},
   "outputs": [],
   "source": [
    "from mpl_toolkits.basemap import Basemap\n",
    "from netCDF4 import Dataset, date2index\n",
    "from datetime import datetime"
   ]
  },
  {
   "cell_type": "markdown",
   "id": "legitimate-formula",
   "metadata": {},
   "source": [
    "A simple example: plot a world map with the current day/night shaded"
   ]
  },
  {
   "cell_type": "code",
   "execution_count": null,
   "id": "heard-mexico",
   "metadata": {},
   "outputs": [],
   "source": [
    "# miller projection \n",
    "map = Basemap(projection='mill',lon_0=180)\n",
    "# plot coastlines, draw label meridians and parallels.\n",
    "map.drawcoastlines()\n",
    "map.drawparallels(np.arange(-90,90,30),labels=[1,0,0,0])\n",
    "map.drawmeridians(np.arange(map.lonmin,map.lonmax+30,60),labels=[0,0,0,1])\n",
    "# fill continents 'coral' (with zorder=0), color wet areas 'aqua'\n",
    "map.drawmapboundary(fill_color='aqua')\n",
    "map.fillcontinents(color='coral',lake_color='aqua')\n",
    "# shade the night areas, with alpha transparency so the \n",
    "# map shows through. Use current time in UTC.\n",
    "date = datetime.utcnow()\n",
    "CS=map.nightshade(date)\n",
    "plt.title('Day/Night Map for %s (UTC)' % date.strftime(\"%d %b %Y %H:%M:%S\"))\n",
    "plt.show()"
   ]
  },
  {
   "cell_type": "markdown",
   "id": "amended-division",
   "metadata": {},
   "source": [
    "Now for a more complex example.\n",
    "\n",
    "Here we read in the sea surface temps and ice from NOAA. See how easy it is to fetch external datasets!"
   ]
  },
  {
   "cell_type": "code",
   "execution_count": null,
   "id": "divided-envelope",
   "metadata": {},
   "outputs": [],
   "source": [
    "date = datetime( 2017,10,1,0) # date to plot.\n",
    "# open dataset.\n",
    "dataset = Dataset('http://www.esrl.noaa.gov/psd/thredds/dodsC/Datasets/noaa.oisst.v2/sst.wkmean.1990-present.nc')\n",
    "icedata = Dataset('http://www.esrl.noaa.gov/psd/thredds/dodsC/Datasets/noaa.oisst.v2/icec.wkmean.1990-present.nc')\n",
    "timevar = dataset.variables['time']\n",
    "timeindex = date2index(date,timevar) # find time index for desired date."
   ]
  },
  {
   "cell_type": "markdown",
   "id": "toxic-links",
   "metadata": {},
   "source": [
    "Create some variables. Read ``sst`` and ``ice`` from the dataset we just downloaded, and make a grid of latitude and longitude."
   ]
  },
  {
   "cell_type": "code",
   "execution_count": null,
   "id": "elegant-compound",
   "metadata": {},
   "outputs": [],
   "source": [
    "# read sst.  Will automatically create a masked array using\n",
    "# missing_value variable attribute. 'squeeze out' singleton dimensions.\n",
    "sst = dataset.variables['sst'][timeindex,:].squeeze()\n",
    "# read ice.\n",
    "ice = icedata.variables['icec'][timeindex,:].squeeze()\n",
    "# read lats and lons (representing centers of grid boxes).\n",
    "lats = dataset.variables['lat'][:]\n",
    "lons = dataset.variables['lon'][:]\n",
    "lons, lats = np.meshgrid(lons,lats)"
   ]
  },
  {
   "cell_type": "markdown",
   "id": "other-miracle",
   "metadata": {},
   "source": [
    "Some fiddling since the format of the land and ice masks changed since we wrote this example."
   ]
  },
  {
   "cell_type": "code",
   "execution_count": null,
   "id": "swiss-liability",
   "metadata": {},
   "outputs": [],
   "source": [
    "land = ice.copy()\n",
    "land.data[:] = 0\n",
    "land.mask = ~land.mask[:]\n",
    "ice.mask[np.where(ice.data == 0)] = True"
   ]
  },
  {
   "cell_type": "markdown",
   "id": "wicked-pillow",
   "metadata": {},
   "source": [
    "Next we set up a figure and a map projection"
   ]
  },
  {
   "cell_type": "code",
   "execution_count": null,
   "id": "located-association",
   "metadata": {},
   "outputs": [],
   "source": [
    "fig = plt.figure()\n",
    "ax = fig.add_axes([0.05,0.05,0.9,0.9])\n",
    "# create Basemap instance without coastlines\n",
    "m = Basemap(projection='kav7',lon_0=0,resolution=None)\n",
    "m.drawmapboundary(fill_color='0.3')"
   ]
  },
  {
   "cell_type": "markdown",
   "id": "liked-resolution",
   "metadata": {},
   "source": [
    "Finally, we plot the data onto our world map."
   ]
  },
  {
   "cell_type": "code",
   "execution_count": null,
   "id": "normal-fancy",
   "metadata": {},
   "outputs": [],
   "source": [
    "# plot sst, then ice with pcolor\n",
    "im1 = m.pcolormesh(lons,lats,sst,shading='flat',cmap=plt.cm.hot,latlon=True)\n",
    "im2 = m.pcolormesh(lons,lats,ice,shading='flat',cmap=plt.cm.gist_rainbow,latlon=True)\n",
    "im3 = m.pcolormesh(lons,lats,land,shading='flat',cmap=plt.cm.hot,latlon=True)\n",
    "# draw parallels and meridians, but don't bother labelling them.\n",
    "m.drawparallels(np.arange(-90.,99.,30.))\n",
    "m.drawmeridians(np.arange(-180.,180.,60.))\n",
    "# add colorbar\n",
    "cb = m.colorbar(im1,\"bottom\", size=\"5%\", pad=\"2%\")\n",
    "# add a title.\n",
    "plt.title('SST and ICE analysis for %s'%date)\n",
    "plt.show()"
   ]
  }
 ],
 "metadata": {
  "kernelspec": {
   "display_name": "Python3.8.3",
   "language": "python",
   "name": "python3.8.3"
  },
  "language_info": {
   "codemirror_mode": {
    "name": "ipython",
    "version": 3
   },
   "file_extension": ".py",
   "mimetype": "text/x-python",
   "name": "python",
   "nbconvert_exporter": "python",
   "pygments_lexer": "ipython3",
   "version": "3.8.3"
  }
 },
 "nbformat": 4,
 "nbformat_minor": 5
}
