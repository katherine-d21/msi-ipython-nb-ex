{
 "cells": [
  {
   "cell_type": "markdown",
   "metadata": {},
   "source": [
    "# Basic Plotting with Matplotlib and Pylab\n",
    "\n",
    "``Matplotlib`` provides high-quality 2-D (and some 3-D) plotting capabilities\n",
    "\n",
    "* Display in a window or output to PDF,PNG,etc files\n",
    "* Modular, object-oriented API\n",
    "\n",
    "``Pylab`` provides a Matlab-ish interactive interface to Matplotlib\n",
    "\n",
    "* ``%matplotlib`` magic command sets it up in ipython\n",
    "* Default is to pop up plots in a separate window\n",
    "* ``%matplotlib notebook`` will place plots in the page from the notebook\n",
    "* ``import pylab`` if you want to use these functions in a script"
   ]
  },
  {
   "cell_type": "code",
   "execution_count": 1,
   "metadata": {},
   "outputs": [],
   "source": [
    "%matplotlib inline"
   ]
  },
  {
   "cell_type": "markdown",
   "metadata": {},
   "source": [
    "Make a basic line plot of a function:"
   ]
  },
  {
   "cell_type": "code",
   "execution_count": 2,
   "metadata": {},
   "outputs": [],
   "source": [
    "import numpy as np\n",
    "import pylab as pl"
   ]
  },
  {
   "cell_type": "code",
   "execution_count": 3,
   "metadata": {},
   "outputs": [
    {
     "data": {
      "image/png": "[encoded data removed]",
      "text/plain": [
       "<Figure size 432x288 with 1 Axes>"
      ]
     },
     "metadata": {
      "needs_background": "light"
     },
     "output_type": "display_data"
    }
   ],
   "source": [
    "x = np.linspace(0,2*np.pi,100)\n",
    "pl.plot(x, np.sin(x) - np.sqrt(x), color='green')\n",
    "pl.title(\"My fancy plot\")\n",
    "pl.xlabel('numbers')\n",
    "pl.ylabel('math is done')\n",
    "pl.plot(x[::20], x[::20] - 3, 'rx')\n",
    "pl.xlim(0,2*np.pi)\n",
    "pl.xticks(np.linspace(0,2*np.pi,9))\n",
    "pl.show()"
   ]
  },
  {
   "cell_type": "markdown",
   "metadata": {},
   "source": [
    "Notice how we set the properties of the plot lines using arguments to the ``plot`` function."
   ]
  },
  {
   "cell_type": "code",
   "execution_count": 4,
   "metadata": {
    "collapsed": true,
    "jupyter": {
     "outputs_hidden": true
    }
   },
   "outputs": [
    {
     "data": {
      "text/plain": [
       "\u001b[0;31mType:\u001b[0m        module\n",
       "\u001b[0;31mString form:\u001b[0m <module 'pylab' from '/common/software/install/migrated/anaconda/python3-2020.07-mamba/lib/python3.8/site-packages/pylab.py'>\n",
       "\u001b[0;31mFile:\u001b[0m        /common/software/install/migrated/anaconda/python3-2020.07-mamba/lib/python3.8/site-packages/pylab.py\n",
       "\u001b[0;31mDocstring:\u001b[0m  \n",
       "This is a procedural interface to the matplotlib object-oriented\n",
       "plotting library.\n",
       "\n",
       "The following plotting commands are provided; the majority have\n",
       "MATLAB |reg| [*]_ analogs and similar arguments.\n",
       "\n",
       ".. |reg| unicode:: 0xAE\n",
       "\n",
       "_Plotting commands\n",
       "  acorr     - plot the autocorrelation function\n",
       "  annotate  - annotate something in the figure\n",
       "  arrow     - add an arrow to the axes\n",
       "  axes      - Create a new axes\n",
       "  axhline   - draw a horizontal line across axes\n",
       "  axvline   - draw a vertical line across axes\n",
       "  axhspan   - draw a horizontal bar across axes\n",
       "  axvspan   - draw a vertical bar across axes\n",
       "  axis      - Set or return the current axis limits\n",
       "  autoscale - turn axis autoscaling on or off, and apply it\n",
       "  bar       - make a bar chart\n",
       "  barh      - a horizontal bar chart\n",
       "  broken_barh - a set of horizontal bars with gaps\n",
       "  box       - set the axes frame on/off state\n",
       "  boxplot   - make a box and whisker plot\n",
       "  violinplot - make a violin plot\n",
       "  cla       - clear current axes\n",
       "  clabel    - label a contour plot\n",
       "  clf       - clear a figure window\n",
       "  clim      - adjust the color limits of the current image\n",
       "  close     - close a figure window\n",
       "  colorbar  - add a colorbar to the current figure\n",
       "  cohere    - make a plot of coherence\n",
       "  contour   - make a contour plot\n",
       "  contourf  - make a filled contour plot\n",
       "  csd       - make a plot of cross spectral density\n",
       "  delaxes   - delete an axes from the current figure\n",
       "  draw      - Force a redraw of the current figure\n",
       "  errorbar  - make an errorbar graph\n",
       "  figlegend - make legend on the figure rather than the axes\n",
       "  figimage  - make a figure image\n",
       "  figtext   - add text in figure coords\n",
       "  figure   - create or change active figure\n",
       "  fill     - make filled polygons\n",
       "  findobj  - recursively find all objects matching some criteria\n",
       "  gca      - return the current axes\n",
       "  gcf      - return the current figure\n",
       "  gci      - get the current image, or None\n",
       "  getp      - get a graphics property\n",
       "  grid     - set whether gridding is on\n",
       "  hist     - make a histogram\n",
       "  ioff     - turn interaction mode off\n",
       "  ion      - turn interaction mode on\n",
       "  isinteractive - return True if interaction mode is on\n",
       "  imread   - load image file into array\n",
       "  imsave   - save array as an image file\n",
       "  imshow   - plot image data\n",
       "  legend   - make an axes legend\n",
       "  locator_params - adjust parameters used in locating axis ticks\n",
       "  loglog   - a log log plot\n",
       "  matshow  - display a matrix in a new figure preserving aspect\n",
       "  margins  - set margins used in autoscaling\n",
       "  pause    - pause for a specified interval\n",
       "  pcolor   - make a pseudocolor plot\n",
       "  pcolormesh - make a pseudocolor plot using a quadrilateral mesh\n",
       "  pie      - make a pie chart\n",
       "  plot     - make a line plot\n",
       "  plot_date - plot dates\n",
       "  plotfile  - plot column data from an ASCII tab/space/comma delimited file\n",
       "  pie      - pie charts\n",
       "  polar    - make a polar plot on a PolarAxes\n",
       "  psd      - make a plot of power spectral density\n",
       "  quiver   - make a direction field (arrows) plot\n",
       "  rc       - control the default params\n",
       "  rgrids   - customize the radial grids and labels for polar\n",
       "  savefig  - save the current figure\n",
       "  scatter  - make a scatter plot\n",
       "  setp      - set a graphics property\n",
       "  semilogx - log x axis\n",
       "  semilogy - log y axis\n",
       "  show     - show the figures\n",
       "  specgram - a spectrogram plot\n",
       "  spy      - plot sparsity pattern using markers or image\n",
       "  stem     - make a stem plot\n",
       "  subplot  - make one subplot (numrows, numcols, axesnum)\n",
       "  subplots - make a figure with a set of (numrows, numcols) subplots\n",
       "  subplots_adjust - control the subplot positions of current figure\n",
       "  subplot_tool - launch the subplot configuration tool\n",
       "  suptitle   - add a figure title\n",
       "  table    - add a table to the plot\n",
       "  text     - add some text at location (x, y) to the current axes\n",
       "  thetagrids - customize the radial theta grids and labels for polar\n",
       "  tick_params - control the appearance of ticks and tick labels\n",
       "  ticklabel_format - control the format of tick labels\n",
       "  title    - add a title to the current axes\n",
       "  tricontour - make a contour plot on a triangular grid\n",
       "  tricontourf - make a filled contour plot on a triangular grid\n",
       "  tripcolor - make a pseudocolor plot on a triangular grid\n",
       "  triplot - plot a triangular grid\n",
       "  xcorr   - plot the autocorrelation function of x and y\n",
       "  xlim     - set/get the xlimits\n",
       "  ylim     - set/get the ylimits\n",
       "  xticks   - set/get the xticks\n",
       "  yticks   - set/get the yticks\n",
       "  xlabel   - add an xlabel to the current axes\n",
       "  ylabel   - add a ylabel to the current axes\n",
       "\n",
       "  autumn - set the default colormap to autumn\n",
       "  bone   - set the default colormap to bone\n",
       "  cool   - set the default colormap to cool\n",
       "  copper - set the default colormap to copper\n",
       "  flag   - set the default colormap to flag\n",
       "  gray   - set the default colormap to gray\n",
       "  hot    - set the default colormap to hot\n",
       "  hsv    - set the default colormap to hsv\n",
       "  jet    - set the default colormap to jet\n",
       "  pink   - set the default colormap to pink\n",
       "  prism  - set the default colormap to prism\n",
       "  spring - set the default colormap to spring\n",
       "  summer - set the default colormap to summer\n",
       "  winter - set the default colormap to winter\n",
       "\n",
       "_Event handling\n",
       "\n",
       "  connect - register an event handler\n",
       "  disconnect - remove a connected event handler\n",
       "\n",
       "_Matrix commands\n",
       "\n",
       "  cumprod   - the cumulative product along a dimension\n",
       "  cumsum    - the cumulative sum along a dimension\n",
       "  detrend   - remove the mean or besdt fit line from an array\n",
       "  diag      - the k-th diagonal of matrix\n",
       "  diff      - the n-th difference of an array\n",
       "  eig       - the eigenvalues and eigen vectors of v\n",
       "  eye       - a matrix where the k-th diagonal is ones, else zero\n",
       "  find      - return the indices where a condition is nonzero\n",
       "  fliplr    - flip the rows of a matrix up/down\n",
       "  flipud    - flip the columns of a matrix left/right\n",
       "  linspace  - a linear spaced vector of N values from min to max inclusive\n",
       "  logspace  - a log spaced vector of N values from min to max inclusive\n",
       "  meshgrid  - repeat x and y to make regular matrices\n",
       "  ones      - an array of ones\n",
       "  rand      - an array from the uniform distribution [0, 1]\n",
       "  randn     - an array from the normal distribution\n",
       "  rot90     - rotate matrix k*90 degrees counterclockwise\n",
       "  squeeze   - squeeze an array removing any dimensions of length 1\n",
       "  tri       - a triangular matrix\n",
       "  tril      - a lower triangular matrix\n",
       "  triu      - an upper triangular matrix\n",
       "  vander    - the Vandermonde matrix of vector x\n",
       "  svd       - singular value decomposition\n",
       "  zeros     - a matrix of zeros\n",
       "\n",
       "_Probability\n",
       "\n",
       "  rand      - random numbers from the uniform distribution\n",
       "  randn     - random numbers from the normal distribution\n",
       "\n",
       "_Statistics\n",
       "\n",
       "  amax      - the maximum along dimension m\n",
       "  amin      - the minimum along dimension m\n",
       "  corrcoef  - correlation coefficient\n",
       "  cov       - covariance matrix\n",
       "  mean      - the mean along dimension m\n",
       "  median    - the median along dimension m\n",
       "  norm      - the norm of vector x\n",
       "  prod      - the product along dimension m\n",
       "  ptp       - the max-min along dimension m\n",
       "  std       - the standard deviation along dimension m\n",
       "  asum      - the sum along dimension m\n",
       "  ksdensity - the kernel density estimate\n",
       "\n",
       "_Time series analysis\n",
       "\n",
       "  bartlett  - M-point Bartlett window\n",
       "  blackman  - M-point Blackman window\n",
       "  cohere    - the coherence using average periodogram\n",
       "  csd       - the cross spectral density using average periodogram\n",
       "  fft       - the fast Fourier transform of vector x\n",
       "  hamming   - M-point Hamming window\n",
       "  hanning   - M-point Hanning window\n",
       "  hist      - compute the histogram of x\n",
       "  kaiser    - M length Kaiser window\n",
       "  psd       - the power spectral density using average periodogram\n",
       "  sinc      - the sinc function of array x\n",
       "\n",
       "_Dates\n",
       "\n",
       "  date2num  - convert python datetimes to numeric representation\n",
       "  drange    - create an array of numbers for date plots\n",
       "  num2date  - convert numeric type (float days since 0001) to datetime\n",
       "\n",
       "_Other\n",
       "\n",
       "  angle     - the angle of a complex array\n",
       "  load      - Deprecated--please use loadtxt.\n",
       "  loadtxt   - load ASCII data into array.\n",
       "  polyfit   - fit x, y to an n-th order polynomial\n",
       "  polyval   - evaluate an n-th order polynomial\n",
       "  roots     - the roots of the polynomial coefficients in p\n",
       "  save      - Deprecated--please use savetxt.\n",
       "  savetxt   - save an array to an ASCII file.\n",
       "  trapz     - trapezoidal integration\n",
       "\n",
       "__end\n",
       "\n",
       ".. [*] MATLAB is a registered trademark of The MathWorks, Inc.\n"
      ]
     },
     "metadata": {},
     "output_type": "display_data"
    }
   ],
   "source": [
    "pl?"
   ]
  },
  {
   "cell_type": "markdown",
   "metadata": {},
   "source": [
    "In addition to the plot, a ``Line2D`` object is returned. You can use the Matplotlib object-oriented API to modify the line or access the data points.\n",
    "\n",
    "Use the ``random`` module to create an array of Gaussian random numbers, then plot a histogram."
   ]
  },
  {
   "cell_type": "code",
   "execution_count": 5,
   "metadata": {},
   "outputs": [
    {
     "data": {
      "image/png": "[encoded data removed]",
      "text/plain": [
       "<Figure size 432x288 with 1 Axes>"
      ]
     },
     "metadata": {
      "needs_background": "light"
     },
     "output_type": "display_data"
    }
   ],
   "source": [
    "t = np.random.randn(10000)\n",
    "x, y, p = pl.hist(t, 17)\n",
    "for i, patch in enumerate(p):\n",
    "    if i % 2 == 0:\n",
    "        patch.set_facecolor('red')\n",
    "    else:\n",
    "        patch.set_facecolor('green')\n",
    "pl.savefig('festive-plot.png')\n",
    "pl.show()"
   ]
  },
  {
   "cell_type": "code",
   "execution_count": 6,
   "metadata": {
    "collapsed": true,
    "jupyter": {
     "outputs_hidden": true
    }
   },
   "outputs": [
    {
     "data": {
      "text/plain": [
       "\u001b[0;31mType:\u001b[0m           Rectangle\n",
       "\u001b[0;31mString form:\u001b[0m    Rectangle(xy=(-3.48591, 0), width=0.407804, height=6, angle=0)\n",
       "\u001b[0;31mFile:\u001b[0m           /common/software/install/migrated/anaconda/python3-2020.07-mamba/lib/python3.8/site-packages/matplotlib/patches.py\n",
       "\u001b[0;31mDocstring:\u001b[0m     \n",
       "A rectangle with lower left at *xy* = (*x*, *y*) with\n",
       "specified *width*, *height* and rotation *angle*.\n",
       "\u001b[0;31mInit docstring:\u001b[0m\n",
       "Parameters\n",
       "----------\n",
       "xy : (float, float)\n",
       "    The bottom and left rectangle coordinates\n",
       "width : float\n",
       "    Rectangle width\n",
       "height : float\n",
       "    Rectangle height\n",
       "angle : float, optional\n",
       "  rotation in degrees anti-clockwise about *xy* (default is 0.0)\n",
       "fill : bool, optional\n",
       "    Whether to fill the rectangle (default is ``True``)\n",
       "\n",
       "Notes\n",
       "-----\n",
       "Valid keyword arguments are:\n",
       "\n",
       "Properties:\n",
       "    agg_filter: a filter function, which takes a (m, n, 3) float array and a dpi value, and returns a (m, n, 3) array\n",
       "    alpha: float or None\n",
       "    animated: bool\n",
       "    antialiased or aa: unknown\n",
       "    capstyle: {'butt', 'round', 'projecting'}\n",
       "    clip_box: `.Bbox`\n",
       "    clip_on: bool\n",
       "    clip_path: Patch or (Path, Transform) or None\n",
       "    color: color\n",
       "    contains: callable\n",
       "    edgecolor or ec: color or None or 'auto'\n",
       "    facecolor or fc: color or None\n",
       "    figure: `.Figure`\n",
       "    fill: bool\n",
       "    gid: str\n",
       "    hatch: {'/', '\\\\', '|', '-', '+', 'x', 'o', 'O', '.', '*'}\n",
       "    in_layout: bool\n",
       "    joinstyle: {'miter', 'round', 'bevel'}\n",
       "    label: object\n",
       "    linestyle or ls: {'-', '--', '-.', ':', '', (offset, on-off-seq), ...}\n",
       "    linewidth or lw: float or None\n",
       "    path_effects: `.AbstractPathEffect`\n",
       "    picker: None or bool or float or callable\n",
       "    rasterized: bool or None\n",
       "    sketch_params: (scale: float, length: float, randomness: float)\n",
       "    snap: bool or None\n",
       "    transform: `.Transform`\n",
       "    url: str\n",
       "    visible: bool\n",
       "    zorder: float\n"
      ]
     },
     "metadata": {},
     "output_type": "display_data"
    }
   ],
   "source": [
    "r = p[0]\n",
    "r\n",
    "r?"
   ]
  },
  {
   "cell_type": "code",
   "execution_count": 7,
   "metadata": {},
   "outputs": [
    {
     "data": {
      "text/plain": [
       "(array([   6.,   26.,   78.,  207.,  414.,  748., 1162., 1497., 1611.,\n",
       "        1470., 1170.,  797.,  488.,  202.,   85.,   24.,   15.]),\n",
       " array([-3.48591354, -3.07810997, -2.6703064 , -2.26250283, -1.85469926,\n",
       "        -1.44689569, -1.03909212, -0.63128855, -0.22348498,  0.18431859,\n",
       "         0.59212216,  0.99992573,  1.4077293 ,  1.81553287,  2.22333644,\n",
       "         2.63114001,  3.03894358,  3.44674715]),\n",
       " <a list of 17 Patch objects>)"
      ]
     },
     "execution_count": 7,
     "metadata": {},
     "output_type": "execute_result"
    }
   ],
   "source": [
    "(x,y,p)"
   ]
  },
  {
   "cell_type": "markdown",
   "metadata": {},
   "source": [
    "Besides getting the ``Patch`` objects (one for each rectangle drawn), this function also returns the bin locations and heights as a convenience."
   ]
  },
  {
   "cell_type": "code",
   "execution_count": 8,
   "metadata": {},
   "outputs": [
    {
     "data": {
      "text/plain": [
       "(array([   6,   26,   78,  207,  414,  748, 1162, 1497, 1611, 1470, 1170,\n",
       "         797,  488,  202,   85,   24,   15]),\n",
       " array([-3.48591354, -3.07810997, -2.6703064 , -2.26250283, -1.85469926,\n",
       "        -1.44689569, -1.03909212, -0.63128855, -0.22348498,  0.18431859,\n",
       "         0.59212216,  0.99992573,  1.4077293 ,  1.81553287,  2.22333644,\n",
       "         2.63114001,  3.03894358,  3.44674715]))"
      ]
     },
     "execution_count": 8,
     "metadata": {},
     "output_type": "execute_result"
    }
   ],
   "source": [
    "np.histogram(t, 17)"
   ]
  },
  {
   "cell_type": "code",
   "execution_count": 9,
   "metadata": {},
   "outputs": [
    {
     "data": {
      "text/plain": [
       "[array([   6.,   26.,   78.,  207.,  414.,  748., 1162., 1497., 1611.,\n",
       "        1470., 1170.,  797.,  488.,  202.,   85.,   24.,   15.]),\n",
       " array([-3.48591354, -3.07810997, -2.6703064 , -2.26250283, -1.85469926,\n",
       "        -1.44689569, -1.03909212, -0.63128855, -0.22348498,  0.18431859,\n",
       "         0.59212216,  0.99992573,  1.4077293 ,  1.81553287,  2.22333644,\n",
       "         2.63114001,  3.03894358,  3.44674715])]"
      ]
     },
     "execution_count": 9,
     "metadata": {},
     "output_type": "execute_result"
    }
   ],
   "source": [
    "[x,y]"
   ]
  },
  {
   "cell_type": "code",
   "execution_count": 10,
   "metadata": {},
   "outputs": [
    {
     "data": {
      "text/plain": [
       "<Figure size 432x288 with 0 Axes>"
      ]
     },
     "metadata": {},
     "output_type": "display_data"
    }
   ],
   "source": [
    "pl.savefig('festive-plot.png')"
   ]
  },
  {
   "cell_type": "markdown",
   "metadata": {},
   "source": [
    "That said, if you want prettier plots than the Matplotlib defaults, consider using loadable stylesheets:"
   ]
  },
  {
   "cell_type": "code",
   "execution_count": 11,
   "metadata": {},
   "outputs": [
    {
     "data": {
      "text/plain": [
       "['Solarize_Light2',\n",
       " '_classic_test_patch',\n",
       " 'bmh',\n",
       " 'classic',\n",
       " 'dark_background',\n",
       " 'fast',\n",
       " 'fivethirtyeight',\n",
       " 'ggplot',\n",
       " 'grayscale',\n",
       " 'seaborn',\n",
       " 'seaborn-bright',\n",
       " 'seaborn-colorblind',\n",
       " 'seaborn-dark',\n",
       " 'seaborn-dark-palette',\n",
       " 'seaborn-darkgrid',\n",
       " 'seaborn-deep',\n",
       " 'seaborn-muted',\n",
       " 'seaborn-notebook',\n",
       " 'seaborn-paper',\n",
       " 'seaborn-pastel',\n",
       " 'seaborn-poster',\n",
       " 'seaborn-talk',\n",
       " 'seaborn-ticks',\n",
       " 'seaborn-white',\n",
       " 'seaborn-whitegrid',\n",
       " 'tableau-colorblind10']"
      ]
     },
     "execution_count": 11,
     "metadata": {},
     "output_type": "execute_result"
    }
   ],
   "source": [
    "pl.style.available"
   ]
  },
  {
   "cell_type": "code",
   "execution_count": 12,
   "metadata": {},
   "outputs": [
    {
     "data": {
      "text/plain": [
       "(array([   6.,   26.,   78.,  207.,  414.,  748., 1162., 1497., 1611.,\n",
       "        1470., 1170.,  797.,  488.,  202.,   85.,   24.,   15.]),\n",
       " array([-3.48591354, -3.07810997, -2.6703064 , -2.26250283, -1.85469926,\n",
       "        -1.44689569, -1.03909212, -0.63128855, -0.22348498,  0.18431859,\n",
       "         0.59212216,  0.99992573,  1.4077293 ,  1.81553287,  2.22333644,\n",
       "         2.63114001,  3.03894358,  3.44674715]),\n",
       " <a list of 17 Patch objects>)"
      ]
     },
     "execution_count": 12,
     "metadata": {},
     "output_type": "execute_result"
    },
    {
     "data": {
      "image/png": "[encoded data removed]",
      "text/plain": [
       "<Figure size 432x288 with 1 Axes>"
      ]
     },
     "metadata": {},
     "output_type": "display_data"
    }
   ],
   "source": [
    "pl.style.use('fivethirtyeight')\n",
    "pl.hist(t,17)"
   ]
  },
  {
   "cell_type": "code",
   "execution_count": null,
   "metadata": {},
   "outputs": [],
   "source": []
  }
 ],
 "metadata": {
  "kernelspec": {
   "display_name": "Python3.8.3",
   "language": "python",
   "name": "python3.8.3"
  },
  "language_info": {
   "codemirror_mode": {
    "name": "ipython",
    "version": 3
   },
   "file_extension": ".py",
   "mimetype": "text/x-python",
   "name": "python",
   "nbconvert_exporter": "python",
   "pygments_lexer": "ipython3",
   "version": "3.8.3"
  }
 },
 "nbformat": 4,
 "nbformat_minor": 4
}
